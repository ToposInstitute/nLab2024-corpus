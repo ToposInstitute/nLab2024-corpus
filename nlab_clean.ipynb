{
 "cells": [
  {
   "cell_type": "markdown",
   "metadata": {},
   "source": [
    "# nLab in plain text"
   ]
  },
  {
   "cell_type": "markdown",
   "metadata": {},
   "source": [
    "The aim of this notebook is to convert the nLab page source into plain text so that it can be fed into standard NLP tools."
   ]
  },
  {
   "cell_type": "code",
   "execution_count": 1,
   "metadata": {},
   "outputs": [
    {
     "name": "stdout",
     "output_type": "stream",
     "text": [
      "All pages: 12912\n",
      "Filtered pages: 12895\n"
     ]
    }
   ],
   "source": [
    "import JSON\n",
    "using JSON3\n",
    "using DataFrames\n",
    "\n",
    "skip_pages = (\n",
    "    \"Timeline of category theory and related mathematics\",\n",
    "    \"AUTOMATH\",\n",
    ")\n",
    "\n",
    "cd(\"/NetMath/nLab2024/2024\")\n",
    "pages = open(JSON.parse,\"nlab_scrape.json\",\"r\")\n",
    "print(\"All pages: \", length(pages),\"\\n\")\n",
    "filter!(page -> page[\"name\"] ∉ skip_pages, pages)\n",
    "pages = Dict(pop!(page, \"name\") => page for page in pages)\n",
    "print(\"Filtered pages: \", length(pages),\"\\n\")"
   ]
  },
  {
   "cell_type": "markdown",
   "metadata": {},
   "source": [
    "We will use [pandoc](https://pandoc.org/) to convert the Markdown to plain text."
   ]
  },
  {
   "cell_type": "code",
   "execution_count": 2,
   "metadata": {},
   "outputs": [
    {
     "data": {
      "text/plain": [
       "\"A sentence with some Markdown formatting\\r\\n\""
      ]
     },
     "execution_count": 2,
     "metadata": {},
     "output_type": "execute_result"
    }
   ],
   "source": [
    "function markdown_to_plain(s)\n",
    "    io = IOBuffer()\n",
    "    open(`pandoc --quiet --from markdown --to plain`, io, write=true) do pd\n",
    "        write(pd, s)\n",
    "    end\n",
    "    String(take!(io))\n",
    "end\n",
    "\n",
    "markdown_to_plain(\"A **sentence** with _some_ [Markdown formatting](https://www.markdownguide.org)\")"
   ]
  },
  {
   "cell_type": "markdown",
   "metadata": {},
   "source": [
    "Besides Markdown formatting, the nLab supports LaTeX math and wiki, specifically Instiki, syntax. We strip out all LaTeX math which is not converted by Pandoc and all wiki syntax besides page links."
   ]
  },
  {
   "cell_type": "code",
   "execution_count": 3,
   "metadata": {},
   "outputs": [
    {
     "data": {
      "text/plain": [
       "nlab_to_plain (generic function with 1 method)"
      ]
     },
     "execution_count": 3,
     "metadata": {},
     "output_type": "execute_result"
    }
   ],
   "source": [
    "\"\"\" Strip LaTeX math, display and inline.\n",
    "\"\"\"\n",
    "function strip_latex_math(s)\n",
    "    s = replace(s, r\"\\$\\$(.*?)\\$\\$\"s => \"\")\n",
    "    s = replace(s, r\"\\$(.*?)\\$\"s => \"\")\n",
    "    s = replace(s, r\"\\\\\\[(.*?)\\\\\\]\"s => \"\")\n",
    "end\n",
    "\n",
    "\"\"\" Strip Instiki commands such as includes, redirects, and ToCs.\n",
    "\"\"\"\n",
    "function strip_wiki_commands(s)\n",
    "    s = join(filter(split(s, \"\\n\")) do line\n",
    "        !any(startswith(lstrip(line), prefix)\n",
    "             for prefix in (\"+--\", \"=--\", \"{:\", \"{#\", \"[[!\"))\n",
    "    end, \"\\n\")\n",
    "    s = replace(s, r\"{#(.*?)}\" => \"\")   \n",
    "end\n",
    "\n",
    "\"\"\" Replace wiki page links with plain text.\n",
    "\"\"\"\n",
    "function replace_page_links(s)\n",
    "    # Links of form [[page name|displayed text]].\n",
    "    s = replace(s, r\"\\[\\[([^\\]]*?)\\|(.*?)\\]\\]\" => s\"\\2\")\n",
    "    # Links of form [[page name]]\n",
    "    s = replace(s, r\"\\[\\[(.*?)\\]\\]\" => s\"\\1\")\n",
    "end\n",
    "    \n",
    "nlab_to_plain(source) = source |> strip_wiki_commands |> replace_page_links |> \n",
    "    markdown_to_plain |> strip_latex_math "
   ]
  },
  {
   "cell_type": "markdown",
   "metadata": {},
   "source": [
    "Run this pipeline on the nLab corpus."
   ]
  },
  {
   "cell_type": "code",
   "execution_count": 4,
   "metadata": {},
   "outputs": [
    {
     "name": "stderr",
     "output_type": "stream",
     "text": [
      "\u001b[32mProgress: 100%|█████████████████████████████████████████| Time: 0:12:32\u001b[39m\n",
      "\u001b[34m  name:  formal deformation quantization\u001b[39m\n"
     ]
    }
   ],
   "source": [
    "using ProgressMeter\n",
    "ProgressMeter.ijulia_behavior(:clear)\n",
    "\n",
    "prog = Progress(length(pages))\n",
    "for (name, page) in pairs(pages)\n",
    "    ProgressMeter.next!(prog, showvalues=[(:name, name)])    \n",
    "    page[\"plain\"] = nlab_to_plain(page[\"source\"])\n",
    "end"
   ]
  },
  {
   "cell_type": "code",
   "execution_count": 5,
   "metadata": {},
   "outputs": [],
   "source": [
    "open(\"nlab_clean.json\", \"w\") do clean\n",
    "    println(clean, \"[\")\n",
    "    for (name, page) in pairs(pages)\n",
    "        if !(page[\"plain\"] == \"\")\n",
    "            println(clean, \"  {\")\n",
    "            rec = page[\"plain\"]\n",
    "            rec = replace(rec, r\"(\\r\\n|\\n|\\r)\" => \" \")\n",
    "            rec = replace(rec, r\"\\s+\" => \" \")\n",
    "            rec = replace(rec, r\"-\" => \" \")        \n",
    "            println(clean, \"    \\\"context\\\": \\\"$rec\\\",\")\n",
    "            println(clean, \"    \\\"title\\\": \\\"$name\\\"\")\n",
    "            println(clean, \"  },\")      \n",
    "        end\n",
    "    end\n",
    "    println(clean, \"]\")    \n",
    "end"
   ]
  },
  {
   "cell_type": "markdown",
   "metadata": {},
   "source": [
    "## Examples"
   ]
  },
  {
   "cell_type": "code",
   "execution_count": 6,
   "metadata": {},
   "outputs": [
    {
     "name": "stdout",
     "output_type": "stream",
     "text": [
      "###Context### #### Algebra\n",
      "\n",
      "#Contents# * table of contents\n",
      "\n",
      "Idea\n",
      "\n",
      "Rigs and rig homomorphisms form the category Rig.\n",
      "\n",
      "Definition\n",
      "\n",
      "We consider rigs as having an additive unit 0, a multiplicative unit 1\n",
      "and being such that 0.x = x.0 = 0, as discussed in the entry rig.\n",
      "\n",
      "We recall that a rig homomorphism f: R → S is a function which is a\n",
      "monoid homomorphism for both the additive underlying monoid and the\n",
      "multiplicative underlying monoid.\n",
      "\n",
      "Properties\n",
      "\n",
      "Related concepts\n",
      "\n",
      "-   Ring, CRing\n",
      "\n"
     ]
    }
   ],
   "source": [
    "pages[\"rig\"][\"plain\"] |> println"
   ]
  },
  {
   "cell_type": "code",
   "execution_count": 7,
   "metadata": {},
   "outputs": [
    {
     "name": "stdout",
     "output_type": "stream",
     "text": [
      "#Contents# * automatic table of contents goes here\n",
      "\n",
      "##Definition\n",
      "\n",
      "A 2-category C is locally posetal or locally partially ordered or\n",
      "Pos-enriched if every hom-category C(x, y) is a poset - an object of the\n",
      "category Pos of partial orders. One can also consider a locally\n",
      "preordered 2-category, where every hom-category is a proset (a\n",
      "preordered set); up to equivalence of 2-categories, these aren't any\n",
      "more general.\n",
      "\n",
      "Locally posetal 2-categories are the usual model of 2-posets, aka\n",
      "(1,2)-categories. Just as the motivating example of a 2-category is the\n",
      "2-category Cat of categories, so the motivating example of a 2-poset is\n",
      "the 2-poset Pos of posets. If you interpret  as a full\n",
      "sub-2-category of , then it is indeed locally posetal. Similarly,\n",
      "the 2-category of prosets is a locally preordered 2-category that is\n",
      "equivalent to Pos.\n",
      "\n",
      "Compare the notion of partially ordered category. A locally partially\n",
      "ordered category is a category enriched over the category Pos of posets,\n",
      "while a partially ordered category is a category internal to Pos.\n",
      "Similarly, a locally partially ordered category is a special kind of\n",
      "2-category, while a partially ordered category is a special kind of\n",
      "double category.\n",
      "\n",
      "Examples\n",
      "\n",
      "-   Pos\n",
      "-   Rel\n",
      "\n"
     ]
    }
   ],
   "source": [
    "pages[\"locally posetal 2-category\"][\"plain\"] |> println"
   ]
  },
  {
   "cell_type": "code",
   "execution_count": 8,
   "metadata": {},
   "outputs": [
    {
     "name": "stdout",
     "output_type": "stream",
     "text": [
      "Context\n",
      "\n",
      "Category theory\n",
      "\n",
      "Graph theory\n",
      "\n",
      "Hypergraph categories\n",
      "\n",
      "-   table of contents\n",
      "\n",
      "Idea\n",
      "\n",
      "A hypergraph category is a monoidal category whose string diagrams are\n",
      "hypergraphs. Recall that in general the vertices of a string diagram\n",
      "correspond to morphisms in a category, and its edges to objects. An\n",
      "ordinary string diagram is a directed graph, where the inputs and\n",
      "outputs of a vertex describe objects appearing in a tensor\n",
      "product-decomposition of the domain and codomain of a morphism; each\n",
      "edge is connected to only one vertex as input and one vertex as output\n",
      "because of how morphisms in a category are composed. A hypergraph\n",
      "category allows edges to connect to many vertices as input and many\n",
      "vertices as output, which category theoretically means that we may\n",
      "compose many morphisms containing an object in their codomain with many\n",
      "morphisms containing that object in their domain.\n",
      "\n",
      "Hypergraph categories have been reinvented many times and given many\n",
      "different names, such as “well-supported compact closed categories”\n",
      "(Carboni and RSW), “dgs-monoidal categories” (GH), and “spidered/dungeon\n",
      "categories” (Morton). The name “hypergraph category” is more recent\n",
      "(Kissinger and Fong).\n",
      "\n",
      "Definition\n",
      "\n",
      "A hypergraph category is:\n",
      "\n",
      "-   a symmetric monoidal category in which\n",
      "-   each object is equipped with the structure of a special commutative\n",
      "    Frobenius algebra, such that\n",
      "-   the Frobenius algebra structure of any tensor product X ⊗ Y is\n",
      "    induced in the canonical way from those of X and Y.\n",
      "\n",
      "Note in particular that we do not require the morphisms of the category\n",
      "to be Frobenius algebra morphisms.\n",
      "\n",
      "Examples\n",
      "\n",
      "-   The category Rel of sets and relations (with cartesian product of\n",
      "    sets as the monoidal product) is a hypergraph category, with the\n",
      "    Frobenius algebra on X given by the “deleting and copying” comonoid\n",
      "    {(x, *) ∣ x ∈ X}, {(x, (x, x))|x ∈ X} together with its opposite.\n",
      "\n",
      "-   More generally, categories of spans, cospans, relations and\n",
      "    corelations in any category (with the appropriate structure) can be\n",
      "    made into hypergraph categories by choosing the correct monoidal\n",
      "    structure. For example, the category FinRel is hypergraph when this\n",
      "    category is given the × monoidal structure (beware: this is not the\n",
      "    categorical product in FinRel; it comes from cartesian product in\n",
      "    FinSet). The same is probably true of relations in any regular\n",
      "    category. The category FinRel is not hypergraph when given the +\n",
      "    monoidal structure. The category FinCorel is hypergraph when this\n",
      "    category is given the + monoidal structure (coming from disjoint\n",
      "    unions).\n",
      "\n",
      "-   Categories of decorated cospans and decorated corelations are\n",
      "    hypergraph categories.\n",
      "\n",
      "Remarks\n",
      "\n",
      "-   The reason for the definition is that if X is a special commutative\n",
      "    Frobenius algebra, then there is a unique morphism \n",
      "    induced by the Frobenius algebra structure. It can of course be\n",
      "    defined as the m-ary multiplication followed by the n-ary\n",
      "    comultiplication; the real point is that the special commutative\n",
      "    Frobenius axioms ensure that any composite of two such morphisms is\n",
      "    again another such morphism. This is what enables the hypergraph\n",
      "    string diagrams described informally above. (Some authors refer to\n",
      "    these morphisms as “spiders” due to their appearance in string\n",
      "    diagrams, as a black node with m + n legs.)\n",
      "\n",
      "-   The free hypergraph category on one object is the category of finite\n",
      "    sets and isomorphism classes of cospans. This is a\n",
      "    decategorification of the fact that the free monoidal category\n",
      "    containing a (non-special) commutative Frobenius algebra is the\n",
      "    category of 1-dimensional manifolds and isomorphism classes of\n",
      "    2-dimensional cobordisms. More general free hypergraph categories\n",
      "    can be constructed using labeled cospans.\n",
      "\n",
      "-   Note that the special commutative Frobenius algebras are not\n",
      "    required to be “extra-special”, meaning that the morphism\n",
      "    I = X^(⊗0) → X^(⊗0) = I need not be the identity. Thus, the relevant\n",
      "    sort of “hypergraphs” can contain “edges not incident to any\n",
      "    vertices”. If we add the extra-special condition, the cospans are\n",
      "    replaced by “co-relations”, i.e. jointly surjective cospans.\n",
      "\n",
      "-   A hypergraph category can be equivalently defined as a symmetric\n",
      "    monoidal category that supplies special commutative Frobenius\n",
      "    algebras.\n",
      "\n",
      "Properties\n",
      "\n",
      "As monoids in a presheaf category\n",
      "\n",
      "Let Cospan_(Δ) be the free hypergraph category on generators Δ. The\n",
      "objects are lists of elements of Δ, or equivalently pairs (m, l) of a\n",
      "natural number m and a labelling l: [m] → Δ. The morphisms are\n",
      "compatible cospans of functions (up to isomorphism).\n",
      "\n",
      "Theorem\n",
      "\n",
      "Fong, Spivak. To give a hypergraph category with chosen objects Δ that\n",
      "generate it is to give a lax monoidal functor Cospan_(Δ) → Set.\n",
      "(Formally, this can be made into an equivalence between the category of\n",
      "objectwise-free hypergraph categories and the lax monoidal functors; and\n",
      "every hypergraph category is in some sense equivalent to an\n",
      "objectwise-free one.)\n",
      "\n",
      "A hypergraph category is thus a presheaf H: Cospan_(Δ) → Set that has\n",
      "lax monoidal structure [ 1H()H(a)H(b)H(a,b) ] which is strongly\n",
      "reminiscent of the mix rule. A lax monoidal functor is the same thing as\n",
      "a monoid for the Day convolution. Thus hypergraph categories are monoids\n",
      "in the presheaf category [Cospan_(Δ), Set].\n",
      "\n",
      "References\n",
      "\n",
      "-   Aleks Kissinger, Finite matrices are complete for\n",
      "    (dagger-)hypergraph categories. (arxiv:1406.5942)\n",
      "\n",
      "-   Brendan Fong, Decorated cospans, Theory and Applications of\n",
      "    Categories, Vol. 30, 2015, No. 33, 1096-1120. (arxiv:1502.00872)\n",
      "\n",
      "-   Brendan Fong, The Algebra of Open and Interconnected Systems,\n",
      "    Ph.D. Thesis, Department of Computer Science, University of\n",
      "    Oxford, 2016. (arxiv:1609.05382)\n",
      "\n",
      "-   Aurelio Carboni, Matrices, relations and group representations J.\n",
      "    Algebra, 138(2):497–529, 1991.\n",
      "\n",
      "-   Robert Rosebrugh, N. Sabadini, and R. F. C. Walters. Generic\n",
      "    commutative separable algebras and cospans of graphs. Th. App. Cat.\n",
      "    15(6):164–177, 2005. online.\n",
      "\n",
      "-   F. Gadducci, R. Heckel. An inductive view of graph transformation.\n",
      "    In “Recent Trends in Algebraic Development Techniques”, Lecture\n",
      "    Notes in Computer Science 1376:223–237. Springer–Verlag, Berlin\n",
      "    Heidelberg, 1998.\n",
      "\n",
      "-   Jason Morton, Belief propagation in monoidal categories In Bob\n",
      "    Coecke, I. Hasuo, P. Panangaden (eds.) Quantum Physics and Logic\n",
      "    2014 (QPL 2014), EPTCS 172:262–269.\n",
      "\n",
      "-   Brendan Fong and David Spivak, Hypergraph categories.\n",
      "    (arxiv:1806.08304)\n",
      "\n"
     ]
    }
   ],
   "source": [
    "pages[\"hypergraph category\"][\"plain\"] |> println"
   ]
  }
 ],
 "metadata": {
  "kernelspec": {
   "display_name": "Julia 1.10.3",
   "language": "julia",
   "name": "julia-1.10"
  },
  "language_info": {
   "file_extension": ".jl",
   "mimetype": "application/julia",
   "name": "julia",
   "version": "1.10.3"
  }
 },
 "nbformat": 4,
 "nbformat_minor": 4
}
